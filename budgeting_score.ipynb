{
 "cells": [
  {
   "cell_type": "code",
   "execution_count": 1,
   "metadata": {},
   "outputs": [
    {
     "data": {
      "text/plain": [
       "<module 'scores' from '/Users/ellie/Documents/Projects/user_scores/scores.py'>"
      ]
     },
     "execution_count": 1,
     "metadata": {},
     "output_type": "execute_result"
    }
   ],
   "source": [
    "import pandas as pd\n",
    "import pickle\n",
    "from datetime import date, timedelta\n",
    "import matplotlib.pyplot as plt\n",
    "import seaborn as sns\n",
    "import extract_time, scores, scores_vis\n",
    "import importlib\n",
    "importlib.reload(scores_vis)\n",
    "importlib.reload(extract_time)\n",
    "importlib.reload(scores)"
   ]
  },
  {
   "cell_type": "code",
   "execution_count": 86,
   "metadata": {},
   "outputs": [
    {
     "data": {
      "text/plain": [
       "'2022-04-06'"
      ]
     },
     "execution_count": 86,
     "metadata": {},
     "output_type": "execute_result"
    }
   ],
   "source": [
    "date.today().isoformat()"
   ]
  },
  {
   "cell_type": "code",
   "execution_count": 87,
   "metadata": {},
   "outputs": [],
   "source": [
    "priority_list = pd.read_csv('/Users/ellie/Documents/Projects/Models_Data/RawData/default_transaction_priority.csv')\n",
    "label = list(priority_list.label)\n",
    "pri_class = list(priority_list['class'])\n",
    "\n",
    "priority_dict = dict(list(zip(label,pri_class)))"
   ]
  },
  {
   "cell_type": "code",
   "execution_count": 88,
   "metadata": {},
   "outputs": [],
   "source": [
    "\n",
    "with open('/Users/ellie/Documents/Projects/Models_Data/RawData/OBdata/test_df_05042022.pkl','rb') as f:\n",
    "    pickle.load(f)"
   ]
  },
  {
   "cell_type": "code",
   "execution_count": 89,
   "metadata": {},
   "outputs": [],
   "source": [
    "df['need_want'] = df.transaction_class.map(priority_dict)"
   ]
  },
  {
   "cell_type": "code",
   "execution_count": 90,
   "metadata": {},
   "outputs": [
    {
     "data": {
      "text/html": [
       "<div>\n",
       "<style scoped>\n",
       "    .dataframe tbody tr th:only-of-type {\n",
       "        vertical-align: middle;\n",
       "    }\n",
       "\n",
       "    .dataframe tbody tr th {\n",
       "        vertical-align: top;\n",
       "    }\n",
       "\n",
       "    .dataframe thead th {\n",
       "        text-align: right;\n",
       "    }\n",
       "</style>\n",
       "<table border=\"1\" class=\"dataframe\">\n",
       "  <thead>\n",
       "    <tr style=\"text-align: right;\">\n",
       "      <th></th>\n",
       "      <th>description</th>\n",
       "      <th>timestamp</th>\n",
       "      <th>currency</th>\n",
       "      <th>type</th>\n",
       "      <th>amount</th>\n",
       "      <th>id</th>\n",
       "      <th>merchant</th>\n",
       "      <th>category</th>\n",
       "      <th>runningBalance.currency</th>\n",
       "      <th>runningBalance.amount</th>\n",
       "      <th>description_anon</th>\n",
       "      <th>transaction_class</th>\n",
       "      <th>need_want</th>\n",
       "    </tr>\n",
       "  </thead>\n",
       "  <tbody>\n",
       "    <tr>\n",
       "      <th>0</th>\n",
       "      <td>SAVE THE CHANGE</td>\n",
       "      <td>2021-12-12</td>\n",
       "      <td>GBP</td>\n",
       "      <td>DEBIT</td>\n",
       "      <td>-0.41</td>\n",
       "      <td>4b6afa19a1407cb1321979f8e52ea3dd</td>\n",
       "      <td></td>\n",
       "      <td>BILL_PAYMENT</td>\n",
       "      <td>GBP</td>\n",
       "      <td>376.03</td>\n",
       "      <td>SAVE THE CHANGE</td>\n",
       "      <td>Savings&amp;Investments</td>\n",
       "      <td>Future You</td>\n",
       "    </tr>\n",
       "    <tr>\n",
       "      <th>1</th>\n",
       "      <td>AA MEMBERSHIP</td>\n",
       "      <td>2021-12-12</td>\n",
       "      <td>GBP</td>\n",
       "      <td>DEBIT</td>\n",
       "      <td>-23.11</td>\n",
       "      <td>a5d504ed5625f1009030b39c4afefe54</td>\n",
       "      <td>Aa Membership</td>\n",
       "      <td>DIRECT_DEBIT</td>\n",
       "      <td>GBP</td>\n",
       "      <td>352.92</td>\n",
       "      <td>AA MEMBERSHIP</td>\n",
       "      <td>VehicleCosts</td>\n",
       "      <td>Want</td>\n",
       "    </tr>\n",
       "    <tr>\n",
       "      <th>2</th>\n",
       "      <td>PAYPAL BETFRED</td>\n",
       "      <td>2021-12-14</td>\n",
       "      <td>GBP</td>\n",
       "      <td>DEBIT</td>\n",
       "      <td>-2.00</td>\n",
       "      <td>1e9ec87d4fda1a44b787520ed36d8761</td>\n",
       "      <td>Betfred</td>\n",
       "      <td>PURCHASE</td>\n",
       "      <td>GBP</td>\n",
       "      <td>353.44</td>\n",
       "      <td>PAYPAL BETFRED</td>\n",
       "      <td>Gambling</td>\n",
       "      <td>Want</td>\n",
       "    </tr>\n",
       "    <tr>\n",
       "      <th>3</th>\n",
       "      <td>MT SECURETRADE LIM</td>\n",
       "      <td>2021-12-14</td>\n",
       "      <td>GBP</td>\n",
       "      <td>CREDIT</td>\n",
       "      <td>43.50</td>\n",
       "      <td>d1df8880ea19fa38dd1fd3a4f5983c2c</td>\n",
       "      <td></td>\n",
       "      <td>PURCHASE</td>\n",
       "      <td>GBP</td>\n",
       "      <td>376.44</td>\n",
       "      <td>MT SECURETRADE LIM</td>\n",
       "      <td>Savings&amp;Investments</td>\n",
       "      <td>Future You</td>\n",
       "    </tr>\n",
       "    <tr>\n",
       "      <th>4</th>\n",
       "      <td>MT SECURETRADE LIM</td>\n",
       "      <td>2021-12-14</td>\n",
       "      <td>GBP</td>\n",
       "      <td>DEBIT</td>\n",
       "      <td>-20.50</td>\n",
       "      <td>83007ff0097149d10aa3b320cc356549</td>\n",
       "      <td></td>\n",
       "      <td>PURCHASE</td>\n",
       "      <td>GBP</td>\n",
       "      <td>332.94</td>\n",
       "      <td>MT SECURETRADE LIM</td>\n",
       "      <td>Savings&amp;Investments</td>\n",
       "      <td>Future You</td>\n",
       "    </tr>\n",
       "  </tbody>\n",
       "</table>\n",
       "</div>"
      ],
      "text/plain": [
       "          description  timestamp currency    type  amount  \\\n",
       "0     SAVE THE CHANGE 2021-12-12      GBP   DEBIT   -0.41   \n",
       "1       AA MEMBERSHIP 2021-12-12      GBP   DEBIT  -23.11   \n",
       "2      PAYPAL BETFRED 2021-12-14      GBP   DEBIT   -2.00   \n",
       "3  MT SECURETRADE LIM 2021-12-14      GBP  CREDIT   43.50   \n",
       "4  MT SECURETRADE LIM 2021-12-14      GBP   DEBIT  -20.50   \n",
       "\n",
       "                                 id       merchant      category  \\\n",
       "0  4b6afa19a1407cb1321979f8e52ea3dd                 BILL_PAYMENT   \n",
       "1  a5d504ed5625f1009030b39c4afefe54  Aa Membership  DIRECT_DEBIT   \n",
       "2  1e9ec87d4fda1a44b787520ed36d8761        Betfred      PURCHASE   \n",
       "3  d1df8880ea19fa38dd1fd3a4f5983c2c                     PURCHASE   \n",
       "4  83007ff0097149d10aa3b320cc356549                     PURCHASE   \n",
       "\n",
       "  runningBalance.currency  runningBalance.amount    description_anon  \\\n",
       "0                     GBP                 376.03     SAVE THE CHANGE   \n",
       "1                     GBP                 352.92       AA MEMBERSHIP   \n",
       "2                     GBP                 353.44      PAYPAL BETFRED   \n",
       "3                     GBP                 376.44  MT SECURETRADE LIM   \n",
       "4                     GBP                 332.94  MT SECURETRADE LIM   \n",
       "\n",
       "     transaction_class   need_want  \n",
       "0  Savings&Investments  Future You  \n",
       "1         VehicleCosts        Want  \n",
       "2             Gambling        Want  \n",
       "3  Savings&Investments  Future You  \n",
       "4  Savings&Investments  Future You  "
      ]
     },
     "execution_count": 90,
     "metadata": {},
     "output_type": "execute_result"
    }
   ],
   "source": [
    "df.head()"
   ]
  },
  {
   "cell_type": "code",
   "execution_count": 91,
   "metadata": {},
   "outputs": [
    {
     "name": "stdout",
     "output_type": "stream",
     "text": [
      "Your budgeting score on 2022-04-06 is 90. The maximum attainable score is 100\n",
      "The perfect budgeting score for this period would be achieved by spending £2870 on essentials and investing £1148 in your future self, which would leave £1722 for fun!\n"
     ]
    }
   ],
   "source": [
    "scores.budgeting_score(df)\n",
    "# scores_vis.budget_pie(df)\n",
    "#scores_vis.spend_bar(df)"
   ]
  },
  {
   "cell_type": "code",
   "execution_count": 92,
   "metadata": {},
   "outputs": [],
   "source": [
    "oldest_transaction = extract_time.BuildDFTime(df)['oldest transaction']\n",
    "recent_transaction = extract_time.BuildDFTime(df)['recent transaction']"
   ]
  },
  {
   "cell_type": "code",
   "execution_count": 66,
   "metadata": {},
   "outputs": [
    {
     "data": {
      "text/plain": [
       "Timestamp('2021-12-12 00:00:00')"
      ]
     },
     "execution_count": 66,
     "metadata": {},
     "output_type": "execute_result"
    }
   ],
   "source": [
    "pd.to_datetime(oldest_transaction)[0]"
   ]
  },
  {
   "cell_type": "code",
   "execution_count": 93,
   "metadata": {},
   "outputs": [],
   "source": [
    "timescale='W'\n",
    "\n",
    "scores_time = pd.DataFrame(columns=['per_start','per_end','score'])\n",
    "starts=[]\n",
    "\n",
    "start = pd.to_datetime(oldest_transaction)[0]\n",
    "end = pd.to_datetime(recent_transaction)[0]\n",
    "week_starts = list(pd.date_range(start,end,freq=timescale))\n",
    "for start in week_starts:\n",
    "    starts.append(start)\n",
    "\n",
    "scores_time['per_start']=starts\n",
    "scores_time['per_end']=pd.to_datetime(scores_time.per_start+timedelta(days=6))\n",
    "\n",
    "start = pd.to_datetime(scores_time.iloc[0]['per_start'])\n",
    "end =  pd.to_datetime(scores_time.iloc[0]['per_end'])"
   ]
  },
  {
   "cell_type": "code",
   "execution_count": 95,
   "metadata": {},
   "outputs": [
    {
     "name": "stdout",
     "output_type": "stream",
     "text": [
      "Your budgeting score on 2022-04-06 is 80. The maximum attainable score is 100\n",
      "The perfect budgeting score for this period would be achieved by spending £94 on essentials and investing £38 in your future self, which would leave £56 for fun!\n"
     ]
    },
    {
     "name": "stderr",
     "output_type": "stream",
     "text": [
      "/opt/anaconda3/envs/chat_env/lib/python3.9/site-packages/pandas/core/indexing.py:1732: SettingWithCopyWarning: \n",
      "A value is trying to be set on a copy of a slice from a DataFrame\n",
      "\n",
      "See the caveats in the documentation: https://pandas.pydata.org/pandas-docs/stable/user_guide/indexing.html#returning-a-view-versus-a-copy\n",
      "  self._setitem_single_block(indexer, value, name)\n"
     ]
    }
   ],
   "source": [
    "scores.budgeting_score(df_week)"
   ]
  },
  {
   "cell_type": "code",
   "execution_count": 156,
   "metadata": {},
   "outputs": [],
   "source": [
    "def weekly_score(df):\n",
    "    b_score=[]   \n",
    "    df = df.copy()\n",
    "    for i in scores_time.index:\n",
    "        start = pd.Timestamp(scores_time.iloc[i]['per_start'])\n",
    "        end =  pd.Timestamp(scores_time.iloc[i]['per_end'])\n",
    "        df_week = df[(df.timestamp.dt.date>=start)&(df.timestamp.dt.date<end)]\n",
    "        score = scores.budgeting_score(df_week)\n",
    "        b_score.append(score)\n",
    "    #print(b_score)\n",
    "    scores_time['score']=b_score\n",
    "    scores_time['rolling_average']=scores_time.score.rolling(4).mean().fillna(scores_time.score.mean())   \n",
    "    \n",
    "\n",
    "    print(f'Budgeting score: {round(sum(b_score)/len(b_score))}')\n",
    "\n",
    "    return scores_time"
   ]
  },
  {
   "cell_type": "code",
   "execution_count": 158,
   "metadata": {},
   "outputs": [
    {
     "name": "stdout",
     "output_type": "stream",
     "text": [
      "Budgeting score: 85\n"
     ]
    },
    {
     "name": "stderr",
     "output_type": "stream",
     "text": [
      "/opt/anaconda3/envs/chat_env/lib/python3.9/site-packages/pandas/core/ops/array_ops.py:73: FutureWarning: Comparison of Timestamp with datetime.date is deprecated in order to match the standard library behavior.  In a future version these will be considered non-comparable.Use 'ts == pd.Timestamp(date)' or 'ts.date() == date' instead.\n",
      "  result = libops.scalar_compare(x.ravel(), y, op)\n",
      "/opt/anaconda3/envs/chat_env/lib/python3.9/site-packages/pandas/core/indexing.py:1732: SettingWithCopyWarning: \n",
      "A value is trying to be set on a copy of a slice from a DataFrame\n",
      "\n",
      "See the caveats in the documentation: https://pandas.pydata.org/pandas-docs/stable/user_guide/indexing.html#returning-a-view-versus-a-copy\n",
      "  self._setitem_single_block(indexer, value, name)\n"
     ]
    },
    {
     "data": {
      "text/html": [
       "<div>\n",
       "<style scoped>\n",
       "    .dataframe tbody tr th:only-of-type {\n",
       "        vertical-align: middle;\n",
       "    }\n",
       "\n",
       "    .dataframe tbody tr th {\n",
       "        vertical-align: top;\n",
       "    }\n",
       "\n",
       "    .dataframe thead th {\n",
       "        text-align: right;\n",
       "    }\n",
       "</style>\n",
       "<table border=\"1\" class=\"dataframe\">\n",
       "  <thead>\n",
       "    <tr style=\"text-align: right;\">\n",
       "      <th></th>\n",
       "      <th>per_start</th>\n",
       "      <th>per_end</th>\n",
       "      <th>score</th>\n",
       "      <th>rolling_average</th>\n",
       "    </tr>\n",
       "  </thead>\n",
       "  <tbody>\n",
       "    <tr>\n",
       "      <th>0</th>\n",
       "      <td>2021-12-12</td>\n",
       "      <td>2021-12-18</td>\n",
       "      <td>80</td>\n",
       "      <td>84.615385</td>\n",
       "    </tr>\n",
       "    <tr>\n",
       "      <th>1</th>\n",
       "      <td>2021-12-19</td>\n",
       "      <td>2021-12-25</td>\n",
       "      <td>80</td>\n",
       "      <td>84.615385</td>\n",
       "    </tr>\n",
       "    <tr>\n",
       "      <th>2</th>\n",
       "      <td>2021-12-26</td>\n",
       "      <td>2022-01-01</td>\n",
       "      <td>83</td>\n",
       "      <td>84.615385</td>\n",
       "    </tr>\n",
       "    <tr>\n",
       "      <th>3</th>\n",
       "      <td>2022-01-02</td>\n",
       "      <td>2022-01-08</td>\n",
       "      <td>90</td>\n",
       "      <td>83.250000</td>\n",
       "    </tr>\n",
       "    <tr>\n",
       "      <th>4</th>\n",
       "      <td>2022-01-09</td>\n",
       "      <td>2022-01-15</td>\n",
       "      <td>90</td>\n",
       "      <td>85.750000</td>\n",
       "    </tr>\n",
       "    <tr>\n",
       "      <th>5</th>\n",
       "      <td>2022-01-16</td>\n",
       "      <td>2022-01-22</td>\n",
       "      <td>88</td>\n",
       "      <td>87.750000</td>\n",
       "    </tr>\n",
       "    <tr>\n",
       "      <th>6</th>\n",
       "      <td>2022-01-23</td>\n",
       "      <td>2022-01-29</td>\n",
       "      <td>82</td>\n",
       "      <td>87.500000</td>\n",
       "    </tr>\n",
       "    <tr>\n",
       "      <th>7</th>\n",
       "      <td>2022-01-30</td>\n",
       "      <td>2022-02-05</td>\n",
       "      <td>86</td>\n",
       "      <td>86.500000</td>\n",
       "    </tr>\n",
       "    <tr>\n",
       "      <th>8</th>\n",
       "      <td>2022-02-06</td>\n",
       "      <td>2022-02-12</td>\n",
       "      <td>91</td>\n",
       "      <td>86.750000</td>\n",
       "    </tr>\n",
       "    <tr>\n",
       "      <th>9</th>\n",
       "      <td>2022-02-13</td>\n",
       "      <td>2022-02-19</td>\n",
       "      <td>74</td>\n",
       "      <td>83.250000</td>\n",
       "    </tr>\n",
       "    <tr>\n",
       "      <th>10</th>\n",
       "      <td>2022-02-20</td>\n",
       "      <td>2022-02-26</td>\n",
       "      <td>80</td>\n",
       "      <td>82.750000</td>\n",
       "    </tr>\n",
       "    <tr>\n",
       "      <th>11</th>\n",
       "      <td>2022-02-27</td>\n",
       "      <td>2022-03-05</td>\n",
       "      <td>85</td>\n",
       "      <td>82.500000</td>\n",
       "    </tr>\n",
       "    <tr>\n",
       "      <th>12</th>\n",
       "      <td>2022-03-06</td>\n",
       "      <td>2022-03-12</td>\n",
       "      <td>91</td>\n",
       "      <td>82.500000</td>\n",
       "    </tr>\n",
       "  </tbody>\n",
       "</table>\n",
       "</div>"
      ],
      "text/plain": [
       "    per_start    per_end  score  rolling_average\n",
       "0  2021-12-12 2021-12-18     80        84.615385\n",
       "1  2021-12-19 2021-12-25     80        84.615385\n",
       "2  2021-12-26 2022-01-01     83        84.615385\n",
       "3  2022-01-02 2022-01-08     90        83.250000\n",
       "4  2022-01-09 2022-01-15     90        85.750000\n",
       "5  2022-01-16 2022-01-22     88        87.750000\n",
       "6  2022-01-23 2022-01-29     82        87.500000\n",
       "7  2022-01-30 2022-02-05     86        86.500000\n",
       "8  2022-02-06 2022-02-12     91        86.750000\n",
       "9  2022-02-13 2022-02-19     74        83.250000\n",
       "10 2022-02-20 2022-02-26     80        82.750000\n",
       "11 2022-02-27 2022-03-05     85        82.500000\n",
       "12 2022-03-06 2022-03-12     91        82.500000"
      ]
     },
     "execution_count": 158,
     "metadata": {},
     "output_type": "execute_result"
    }
   ],
   "source": [
    "weekly_score(df)"
   ]
  },
  {
   "cell_type": "code",
   "execution_count": null,
   "metadata": {},
   "outputs": [],
   "source": []
  },
  {
   "cell_type": "code",
   "execution_count": 160,
   "metadata": {},
   "outputs": [],
   "source": [
    "def weekly_b_score(df):    \n",
    "    # set figure size\n",
    "    plt.figure( figsize = ( 12, 5))\n",
    "\n",
    "    df = df.copy()\n",
    "    \n",
    "    # plot a simple time series plot\n",
    "    # using seaborn.lineplot()\n",
    "    sns.lineplot( x = 'per_end',\n",
    "                y = 'score',\n",
    "                data = df,\n",
    "                color='hotpink',\n",
    "                label = 'Weekly Score')\n",
    "    \n",
    "    # # plot using rolling average\n",
    "    pal = sns.dark_palette('purple',2)\n",
    "    sns.lineplot( x = 'per_end',\n",
    "                y = 'rolling_average',\n",
    "                data = scores_time,\n",
    "                color='aquamarine',\n",
    "                label = 'Rollingavg')\n",
    "    \n",
    "    plt.xlabel('Weeks using Good With app')\n",
    "    \n",
    "    # setting customized ticklabels for x axis\n",
    "    pos = [ '2021-12-18', '2021-12-25', '2022-01-01','2022-01-08','2022-01-15','2022-01-22',\n",
    "    '2022-01-29','2022-02-05','2022-02-12','2022-02-19','2022-02-26','2022-03-05','2022-03-12']\n",
    "\n",
    "    \n",
    "    lab = pd.Series(pos).index\n",
    "    \n",
    "    plt.xticks( pos, lab)\n",
    "    \n",
    "    plt.ylabel('Budgeting Score')"
   ]
  },
  {
   "cell_type": "code",
   "execution_count": 116,
   "metadata": {},
   "outputs": [],
   "source": [
    "pos = [ '2021-12-18', '2021-12-25', '2022-01-01','2022-01-08','2022-01-15','2022-01-22',\n",
    "'2022-01-29','2022-02-05','2022-02-12','2022-02-19','2022-02-26','2022-03-05','2022-03-12']"
   ]
  }
 ],
 "metadata": {
  "interpreter": {
   "hash": "1e8294f7272c1352644699e3dcb9cafbca372db8462586754029eedcccf3c256"
  },
  "kernelspec": {
   "display_name": "Python 3.9.7",
   "language": "python",
   "name": "python3"
  },
  "language_info": {
   "codemirror_mode": {
    "name": "ipython",
    "version": 3
   },
   "file_extension": ".py",
   "mimetype": "text/x-python",
   "name": "python",
   "nbconvert_exporter": "python",
   "pygments_lexer": "ipython3",
   "version": "3.9.7"
  },
  "orig_nbformat": 4
 },
 "nbformat": 4,
 "nbformat_minor": 2
}
