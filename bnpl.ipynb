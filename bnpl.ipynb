{
 "cells": [
  {
   "cell_type": "code",
   "execution_count": 123,
   "metadata": {},
   "outputs": [],
   "source": [
    "import pandas as pd \n",
    "import numpy as np\n",
    "import re\n",
    "import pickle"
   ]
  },
  {
   "cell_type": "code",
   "execution_count": 120,
   "metadata": {},
   "outputs": [],
   "source": [
    "examples = pd.read_csv('/Users/ellie/Documents/Projects/Models_Data/RawData/labelled_data-14042022.csv')"
   ]
  },
  {
   "cell_type": "code",
   "execution_count": 124,
   "metadata": {},
   "outputs": [],
   "source": [
    "with open('/Users/ellie/Documents/Projects/Models_Data/RawData/OBdata/test_df_05042022.pkl','rb') as f:\n",
    "    data = pickle.load(f)"
   ]
  },
  {
   "cell_type": "code",
   "execution_count": 125,
   "metadata": {},
   "outputs": [
    {
     "data": {
      "text/plain": [
       "Index(['description', 'timestamp', 'currency', 'type', 'amount', 'id',\n",
       "       'merchant', 'category', 'runningBalance.currency',\n",
       "       'runningBalance.amount', 'description_anon', 'transaction_class',\n",
       "       'need_want'],\n",
       "      dtype='object')"
      ]
     },
     "execution_count": 125,
     "metadata": {},
     "output_type": "execute_result"
    }
   ],
   "source": [
    "data.columns"
   ]
  },
  {
   "cell_type": "code",
   "execution_count": null,
   "metadata": {},
   "outputs": [],
   "source": []
  },
  {
   "cell_type": "code",
   "execution_count": 127,
   "metadata": {},
   "outputs": [],
   "source": [
    "def label_bnpl(df:pd.DataFrame):\n",
    "\n",
    "    bnpl_list=['KLARNA','CLEARPAY','MY ARGOS CARD','LAYBUY','OPENPAY','PAYL8R','OPENPAY','SPLITIT','DIVIDEBUY','ZILCH','POLLENPAY','PYPL PAYIN']\n",
    "\n",
    "    bnpl=[]\n",
    "    for description in df.description:\n",
    "        res = [element for element in bnpl_list if (element in description)]\n",
    "        if res == True:\n",
    "            print(res)\n",
    "        bnpl.append(res)\n",
    "    df['bnpl']=bnpl\n",
    "    df.bnpl = df.bnpl.apply(lambda x:str(x).strip(\"[]\"))\n",
    "\n",
    "    df.assign(bnpl_scores=0)\n",
    "    df.loc[df.bnpl!='','bnpl_scores']=1\n",
    "\n",
    "    return df\n",
    "\n"
   ]
  },
  {
   "cell_type": "code",
   "execution_count": null,
   "metadata": {},
   "outputs": [],
   "source": []
  },
  {
   "cell_type": "code",
   "execution_count": 129,
   "metadata": {},
   "outputs": [],
   "source": [
    "df = label_bnpl(data)"
   ]
  },
  {
   "cell_type": "code",
   "execution_count": 130,
   "metadata": {},
   "outputs": [
    {
     "data": {
      "text/plain": [
       "0.0"
      ]
     },
     "execution_count": 130,
     "metadata": {},
     "output_type": "execute_result"
    }
   ],
   "source": [
    "df.bnpl_scores.sum()"
   ]
  },
  {
   "cell_type": "code",
   "execution_count": 132,
   "metadata": {},
   "outputs": [
    {
     "data": {
      "text/plain": [
       "8.0"
      ]
     },
     "execution_count": 132,
     "metadata": {},
     "output_type": "execute_result"
    }
   ],
   "source": [
    "examples[examples.bnpl_scores==1]['bnpl_scores'].sum()"
   ]
  }
 ],
 "metadata": {
  "interpreter": {
   "hash": "09cb63ac43ebcf54cfdb085a529c21e076d036cba902ce10013baf5ad7b72cd1"
  },
  "kernelspec": {
   "display_name": "Python 3.9.7",
   "language": "python",
   "name": "python3"
  },
  "language_info": {
   "codemirror_mode": {
    "name": "ipython",
    "version": 3
   },
   "file_extension": ".py",
   "mimetype": "text/x-python",
   "name": "python",
   "nbconvert_exporter": "python",
   "pygments_lexer": "ipython3",
   "version": "3.9.7"
  },
  "orig_nbformat": 4
 },
 "nbformat": 4,
 "nbformat_minor": 2
}
